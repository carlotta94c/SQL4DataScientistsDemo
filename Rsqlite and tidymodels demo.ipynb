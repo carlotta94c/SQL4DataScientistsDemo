{
    "cells": [
        {
            "cell_type": "markdown",
            "metadata": {},
            "source": [
                "## **Exploring data with R - visualize data**\n",
                "\n",
                "There's a wise saying that goes like this: a picture is worth a thousand rows and columns.\n",
                "\n",
                "Actually, sorry, we made that up - there is no such wise saying 😄. But you get the gist of it, right?\n",
                "\n",
                "In this notebook, we'll apply basic techniques to analyze data with basic statistics and visualise using graphs with `ggplot2`, a core member of the Tidyverse.\n",
                "\n",
                "## **Loading our data**\n",
                "\n",
                "Before we begin, lets load the same data about study hours that we analysed in the previous notebook. We will also recalculate who passed, in the same way as last time. Run the code in the cell below by clicking the **► Run** button to see the data.\n"
            ]
        },
        {
            "cell_type": "code",
            "execution_count": null,
            "metadata": {},
            "outputs": [],
            "source": [
                "# Load the tidyverse and make it available in the current R session\n",
                "library(tidyverse)\n"
            ]
        },
        {
            "cell_type": "markdown",
            "metadata": {},
            "source": [
                "Now, let's get the data ready for further analysis.\n",
                "\n"
            ]
        },
        {
            "cell_type": "code",
            "execution_count": null,
            "metadata": {},
            "outputs": [],
            "source": [
                "# Read a CSV file into a tibble\n",
                "df_students <- read_csv(file = \"https://raw.githubusercontent.com/MicrosoftDocs/ml-basics/master/data/grades.csv\")\n",
                "\n",
                "# Remove any rows with missing data\n",
                "df_students <- df_students %>% \n",
                "  drop_na()\n",
                "\n",
                "# Add a column \"Pass\" that specifies if a student passed or failed\n",
                "# Assuming '60' is the grade needed to pass\n",
                "df_students <- df_students %>% \n",
                "  mutate(Pass = Grade >= 60)\n",
                "\n",
                "# Print the results\n",
                "df_students\n"
            ]
        },
        {
            "cell_type": "markdown",
            "metadata": {},
            "source": [
                "Good job! That went well!\n",
                "\n",
                "## **Visualizing data with ggplot2**\n",
                "\n",
                "Data frames provide a great way to explore and analyze rectangular data, but sometimes plotting the data can greatly enhance your ability to analyze the data, see underlying trends and raise new questions.\n",
                "\n",
                "`Ggplot2` is a package for creating elegant graphics for data analysis in R. Compared with other graphing systems, ggplot2 provides a flexible and intuitive way of creating graphs, by combining independent components of a graphic in a series of iterative steps. This allows you to create visualisations that match your specific needs rather than being limited to sets of predefined graphics.\n",
                "\n",
                "Now let's see this in action. We'll start with a simple bar chart that shows the grade of each student.\n"
            ]
        },
        {
            "cell_type": "code",
            "execution_count": null,
            "metadata": {},
            "outputs": [],
            "source": [
                "ggplot(data = df_students) +\n",
                "  geom_col(mapping = aes(x = Name, y = Grade))\n"
            ]
        },
        {
            "cell_type": "markdown",
            "metadata": {},
            "source": [
                "Well, that worked; but the chart could use some improvements to make it clearer what we're looking at. We'll get to that. Let's first walk through the process of creating graphics in ggplot2.\n",
                "\n",
                "You initialize a graphic using the function `ggplot()` and the data frame to use for the plot. `ggplot(data = df_students)` basically creates an empty graph which you can add layers to using a `+`.\n",
                "\n",
                "`geom_col()` then adds a layer of bars whose height corresponds to the variables specified by the `mapping` argument. The mapping argument is always paired with `aes()`, which specifies how **variables in the data** are mapped (what goes into aes() are variables found in the data). In our case, we specified, map `Name` to the x axis and `Grade` to the y axis.\n",
                "\n",
                "And that's it! We'll follow and extend this blueprint to make different types of graphs.\n",
                "\n",
                "Now, let's improve the visual elements of the plot. For example, the following code:\n",
                "\n",
                "-   Specifies the color of the bar chart.\n",
                "\n",
                "-   Adds a title to the chart (so we know what it represents)\n",
                "\n",
                "-   Adds labels to the X and Y (so we know which axis shows which data)\n"
            ]
        },
        {
            "cell_type": "code",
            "execution_count": null,
            "metadata": {},
            "outputs": [],
            "source": [
                "# Change the default grey background\n",
                "theme_set(theme_light())\n",
                "\n",
                "\n",
                "ggplot(data = df_students) +\n",
                "  geom_col(mapping = aes(x = Name, y = Grade),\n",
                "           # Specifiy color and transparency of the bars\n",
                "           fill = \"midnightblue\", alpha = 0.7) +\n",
                "  # Add a title to the chart\n",
                "  ggtitle(\"Student Grades\") +\n",
                "  # Add labels to axes\n",
                "  xlab(\"Student\") +\n",
                "  ylab(\"Grade\")\n"
            ]
        },
        {
            "cell_type": "markdown",
            "metadata": {},
            "source": [
                "Whooa! That's a step in the right direction. We can even improve this further using `ggplot2`'s comprehesive theming system. Themes are a powerful way to customize the non-data components of your plots: i.e. titles, labels, fonts, background, gridlines and legends. You can learn more about modifying components of a theme by running `?theme`.\n",
                "\n",
                "For instance, let's:\n",
                "\n",
                "-   Center the title\n",
                "\n",
                "-   Add a grid (to make it easier to determine the values for the bars)\n",
                "\n",
                "-   Rotate the X markers (so we can read them)\n"
            ]
        },
        {
            "cell_type": "code",
            "execution_count": null,
            "metadata": {},
            "outputs": [],
            "source": [
                "ggplot(data = df_students) +\n",
                "  geom_col(mapping = aes(x = Name, y = Grade),\n",
                "           fill = \"midnightblue\", alpha = 0.7) +\n",
                "  ggtitle(\"Student Grades\") +\n",
                "  xlab(\"Student\") +\n",
                "  ylab(\"Grade\") +\n",
                "  theme(\n",
                "    # Center the title\n",
                "    plot.title = element_text(hjust = 0.5),\n",
                "    \n",
                "    # Add a grid (to make it easier to determine the bar values\n",
                "    panel.grid = element_blank(),\n",
                "    panel.grid.major.y = element_line(color = \"gray\", linetype = \"dashed\", size = 0.5),\n",
                "    \n",
                "    # Rotate the X markers so we can read them\n",
                "    axis.text.x = element_text(angle = 90)\n",
                "    \n",
                "  )\n"
            ]
        },
        {
            "cell_type": "markdown",
            "metadata": {},
            "source": [
                "Good job! Perhaps the bar chart would be more informative if the student names were in a certain order, right? This is a good chance to showcase how to use `dplyr` and `ggplot2` to derive insights from your data.\n",
                "\n",
                "So, let's reorder the levels of the Name column in descending order, based on the Grade column and then plot this.\n"
            ]
        },
        {
            "cell_type": "code",
            "execution_count": null,
            "metadata": {},
            "outputs": [],
            "source": [
                "df_students %>% \n",
                "  mutate(Name = fct_reorder(Name, Grade, .desc = TRUE)) %>% \n",
                "  ggplot() +\n",
                "  geom_col(mapping = aes(x = Name, y = Grade),\n",
                "           fill = \"midnightblue\", alpha = 0.7) +\n",
                "  ggtitle(\"Student Grades\") +\n",
                "  xlab(\"Student\") +\n",
                "  ylab(\"Grade\") +\n",
                "  theme(\n",
                "    plot.title = element_text(hjust = 0.5),\n",
                "    \n",
                "    panel.grid = element_blank(),\n",
                "    panel.grid.major.y = element_line(color = \"gray\", linetype = \"dashed\", size = 0.5),\n",
                "    \n",
                "    axis.text.x = element_text(angle = 90)\n",
                "    \n",
                "  )\n"
            ]
        },
        {
            "cell_type": "markdown",
            "metadata": {},
            "source": [
                "That's a much better plot - both in aesthetics and information. For instance, we can quickly and easily discern how each student performed.\n",
                "\n",
                "## Getting started with statistical analysis\n",
                "\n",
                "Now that you know how to use R to manipulate and visualize data, you can start analyzing it 🎉.\n",
                "\n",
                "A lot of data science is rooted in *statistics*, so we'll explore some basic statistical techniques.\n",
                "\n",
                "> **Note**: This is not intended to teach you statistics - that's much too big a topic for this notebook. It will however introduce you to some statistical concepts and techniques that data scientists use as they explore data in preparation for machine learning modeling.\n",
                "\n",
                "### Descriptive statistics and data distribution\n",
                "\n",
                "When examining a *variable* (for example a sample of student grades), data scientists are particularly interested in its *distribution* (in other words, how are all the different grade values spread across the sample). The starting point for this exploration is often to visualize the data as a histogram, and see how frequently each value for the variable occurs.\n",
                "\n",
                "So what `geom` are we going to use? \" `geom_histogram`\", you'll say - because you are already getting the gist/geom of it 🥳!\n"
            ]
        },
        {
            "cell_type": "code",
            "execution_count": null,
            "metadata": {},
            "outputs": [],
            "source": [
                "# Visualise distribution of the grades in a histogram\n",
                "ggplot(data = df_students) +\n",
                "  geom_histogram(mapping = aes(x = Grade))\n"
            ]
        },
        {
            "cell_type": "markdown",
            "metadata": {},
            "source": [
                "Alright. This certainly tells us something about our data - for instance most of the grades seem to be around 50. However, `ggplot2` is extremely flexible and allows us to experiment with different function arguments to better reveal the story behind our data. By looking at `?geom_histogram` we can experiment with arguments such as `binwidth` and `boundary` as shown:\n",
                "\n"
            ]
        },
        {
            "cell_type": "code",
            "execution_count": null,
            "metadata": {},
            "outputs": [],
            "source": [
                "# Visualise distribution of the grades in a histogram\n",
                "ggplot(data = df_students) +\n",
                "  geom_histogram(mapping = aes(x = Grade), , binwidth = 20, boundary = 0.5, fill = \"midnightblue\", alpha = 0.7) +\n",
                "  xlab('Grade') +\n",
                "  ylab('Frequency') +\n",
                "  theme(plot.title = element_text(hjust = 0.5))\n"
            ]
        },
        {
            "cell_type": "markdown",
            "metadata": {},
            "source": [
                "Much better! The histogram for grades is a symmetric shape, where the most frequently occurring grades tend to be in the middle of the range (around 50), with fewer grades at the extreme ends of the scale.\n",
                "\n",
                "### Measures of central tendency\n",
                "\n",
                "To understand the distribution better, we can examine so-called *measures of central tendency*; which is a fancy way of describing statistics that represent the \"middle\" of the data. The goal of this is to try to find a \"typical\" value. Common ways to define the middle of the data include:\n",
                "\n",
                "-   The *mean*: A simple average based on adding together all of the values in the sample set, and then dividing the total by the number of samples.\n",
                "\n",
                "-   The *median*: The value in the middle of the range of all of the sample values.\n",
                "\n",
                "-   The *mode*: The most commonly occuring value in the sample set^\\*^.\n",
                "\n",
                "Let's calculate these values, along with the minimum and maximum values for comparison, and show them on the histogram.\n",
                "\n",
                "> Of course, in some sample sets , there may be a tie for the most common value - in which case the dataset is described as *bimodal* or even *multimodal*.\n",
                "\n",
                "Base *R does not* provide a *function* for finding the *mode*. But worry not, `statip::mfv` returns the most frequent value(s) (or mode(s)) found in a vector. Other pretty awesome workarounds can be found on this [stackoverflow thread](https://stackoverflow.com/questions/2547402/how-to-find-the-statistical-mode).\n"
            ]
        },
        {
            "cell_type": "code",
            "execution_count": null,
            "metadata": {},
            "outputs": [],
            "source": [
                "# Load statip into the current R sesssion\n",
                "library(statip)\n",
                "\n",
                "# Get summary statistics\n",
                "min_val <- min(df_students$Grade)\n",
                "max_val <- max(df_students$Grade)\n",
                "mean_val <- mean(df_students$Grade)\n",
                "med_val <- median(df_students$Grade)\n",
                "mod_val <- mfv(df_students$Grade)\n",
                "\n",
                "# Print the stats\n",
                "cat(\n",
                "  \"Minimum: \", round(min_val, 2),\n",
                "   \"\\nMean: \", round(mean_val, 2),\n",
                "   \"\\nMedian: \", round(med_val, 2),\n",
                "   \"\\nMode: \", round(mod_val, 2),\n",
                "   \"\\nMaximum: \", round(max_val, 2)\n",
                ")\n"
            ]
        },
        {
            "cell_type": "markdown",
            "metadata": {},
            "source": [
                "Now let's incorporate these statistics onto our graph.\n",
                "\n"
            ]
        },
        {
            "cell_type": "code",
            "execution_count": null,
            "metadata": {},
            "outputs": [],
            "source": [
                "# Plot a histogram\n",
                "ggplot(data = df_students) +\n",
                "  geom_histogram(mapping = aes(x = Grade), binwidth = 20, fill = \"midnightblue\", alpha = 0.7, boundary = 0.5) +\n",
                "  \n",
                "# Add lines for the statistics\n",
                "  geom_vline(xintercept = min_val, color = 'gray33', linetype = \"dashed\", size = 1.3) +\n",
                "  geom_vline(xintercept = mean_val, color = 'cyan', linetype = \"dashed\", size = 1.3) +\n",
                "  geom_vline(xintercept = med_val, color = 'red', linetype = \"dashed\", size = 1.3 ) +\n",
                "  geom_vline(xintercept = mod_val, color = 'yellow', linetype = \"dashed\", size = 1.3 ) +\n",
                "  geom_vline(xintercept = max_val, color = 'gray33', linetype = \"dashed\", size = 1.3 ) +\n",
                "  \n",
                "# Add titles and labels\n",
                "  ggtitle('Data Distribution')+\n",
                "  xlab('Value')+\n",
                "  ylab('Frequency')+\n",
                "  theme(plot.title = element_text(hjust = 0.5))\n"
            ]
        },
        {
            "cell_type": "markdown",
            "metadata": {},
            "source": [
                "> `geom_vline()` adds a vertical reference line to a plot.\n",
                "\n",
                "Good job!\n",
                "\n",
                "For the grade data, the mean, median, and mode all seem to be more or less in the middle of the minimum and maximum, at around 50.\n",
                "\n",
                "Another way to visualize the distribution of a variable is to use a *box* plot (sometimes called a *box-and-whiskers* plot). Let's create one for the grade data.\n"
            ]
        },
        {
            "cell_type": "code",
            "execution_count": null,
            "metadata": {},
            "outputs": [],
            "source": [
                "# Plot a box plot\n",
                "ggplot(data = df_students) +\n",
                "  geom_boxplot(mapping = aes(x = 1, y = Grade), fill = \"#E69F00\", color = \"gray23\", alpha = 0.7) +\n",
                "  \n",
                "  # Add titles and labels\n",
                "  ggtitle(\"Data Distribution\") +\n",
                "  xlab(\"\") +\n",
                "  ylab(\"Grade\") +\n",
                "  theme(plot.title = element_text(hjust = 0.5))\n"
            ]
        },
        {
            "cell_type": "markdown",
            "metadata": {},
            "source": [
                "The box plot shows the distribution of the grade values in a different format to the histogram. The *box* part of the plot shows where the inner two *quartiles* of the data reside - so in this case, half of the grades are between approximately 36 and 63. The *whiskers* extending from the box show the outer two quartiles; so the other half of the grades in this case are between 0 and 36 or 63 and 100. The line in the box indicates the *median* value.\n",
                "\n",
                "It's often useful to combine histograms and box plots, with the *box plot's orientation changed* to align it with the histogram (in some ways, it can be helpful to think of the histogram as a \"front elevation\" view of the distribution, and the box plot as a \"plan\" view of the distribution from above). Since we may need to plot the histograms and box plots for different variables, it will be convenient to write a function. Functions allows you to automate common tasks in a more powerful and general way than copy-and-pasting.\n",
                "\n",
                "Let's get right to it! Functions in R are generally defined in this fashion:\n",
                "\n",
                "`name <- function(variables) {return(value)}`\n",
                "\n",
                "> [patchwork](https://patchwork.data-imaginist.com/) extends `ggplot` API by providing mathematical operators (such as `+` or `/`) for combining multiple plots. Yes, as easy as that!\n"
            ]
        },
        {
            "cell_type": "code",
            "execution_count": null,
            "metadata": {},
            "outputs": [],
            "source": [
                "library(patchwork)\n",
                "# Create a function that we can reuse\n",
                "show_distribution <- function(var_data, binwidth) {\n",
                "  \n",
                "  # Get summary statistics by first extracting values from the column\n",
                "  min_val <- min(pull(var_data))\n",
                "  max_val <- max(pull(var_data))\n",
                "  mean_val <- mean(pull(var_data))\n",
                "  med_val <- median(pull(var_data))\n",
                "  mod_val <- statip::mfv(pull(var_data))\n",
                "\n",
                "  # Print the stats\n",
                "  stats <- glue::glue(\n",
                "  'Minimum: {format(round(min_val, 2), nsmall = 2)}\n",
                "   Mean: {format(round(mean_val, 2), nsmall = 2)}\n",
                "   Median: {format(round(med_val, 2), nsmall = 2)}\n",
                "   Mode: {format(round(mod_val, 2), nsmall = 2)}\n",
                "   Maximum: {format(round(max_val, 2), nsmall = 2)}'\n",
                "  )\n",
                "  \n",
                "  # Plot the histogram\n",
                "  hist_gram <- ggplot(var_data) +\n",
                "  geom_histogram(aes(x = pull(var_data)), binwidth = binwidth,\n",
                "                 fill = \"midnightblue\", alpha = 0.7, boundary = 0.4) +\n",
                "    \n",
                "  # Add lines for the statistics\n",
                "  geom_vline(xintercept = min_val, color = 'gray33', linetype = \"dashed\", size = 1.3) +\n",
                "  geom_vline(xintercept = mean_val, color = 'cyan', linetype = \"dashed\", size = 1.3) +\n",
                "  geom_vline(xintercept = med_val, color = 'red', linetype = \"dashed\", size = 1.3 ) +\n",
                "  geom_vline(xintercept = mod_val, color = 'yellow', linetype = \"dashed\", size = 1.3 ) +\n",
                "  geom_vline(xintercept = max_val, color = 'gray33', linetype = \"dashed\", size = 1.3 ) +\n",
                "    \n",
                "  # Add titles and labels\n",
                "  ggtitle('Data Distribution') +\n",
                "  xlab('')+\n",
                "  ylab('Frequency') +\n",
                "  theme(plot.title = element_text(hjust = 0.5))\n",
                "  \n",
                "  # Plot the box plot\n",
                "  bx_plt <- ggplot(data = var_data) +\n",
                "  geom_boxplot(mapping = aes(x = pull(var_data), y = 1),\n",
                "               fill = \"#E69F00\", color = \"gray23\", alpha = 0.7) +\n",
                "    \n",
                "    # Add titles and labels\n",
                "  xlab(\"Value\") +\n",
                "  ylab(\"\") +\n",
                "  theme(plot.title = element_text(hjust = 0.5))\n",
                "  \n",
                "  \n",
                "  # To return multiple outputs, use a `list`\n",
                "  return(\n",
                "    \n",
                "    list(stats,\n",
                "         # Combine histogram and box plot using library patchwork\n",
                "         hist_gram / bx_plt)\n",
                "    \n",
                "        ) # End of returned outputs\n",
                "  \n",
                "} # End of function\n"
            ]
        },
        {
            "cell_type": "markdown",
            "metadata": {},
            "source": [
                "Now that the `show_distribution()` function is done for, let's get a variable/column to examine and then call the function.\n",
                "\n"
            ]
        },
        {
            "cell_type": "code",
            "execution_count": null,
            "metadata": {},
            "outputs": [],
            "source": [
                "# Get the variable to examine\n",
                "col <- df_students %>% \n",
                "  select(Grade)\n",
                "\n",
                "# Call the function\n",
                "show_distribution(var_data = col, binwidth = 20)\n"
            ]
        },
        {
            "cell_type": "markdown",
            "metadata": {},
            "source": [
                "All of the measurements of central tendency are right in the middle of the data distribution, which is symmetric with values becoming progressively lower in both directions from the middle.\n",
                "\n",
                "To explore this distribution in more detail, you need to understand that statistics is fundamentally about taking *samples* of data and using probability functions to *extrapolate information* about the full *population* of data. For example, the student data consists of 22 samples, and for each sample there is a grade value. You can think of each sample grade as a variable that's been randomly selected from the set of all grades awarded for this course. With enough of these random variables, you can calculate something called a *probability density function*, which estimates the distribution of grades for the full population.\n",
                "\n",
                "A density plot is a representation of the distribution of a numeric variable. It is a smoothed version of the histogram and is often used in the same kind of situation.\n",
                "\n",
                "> `geom_density()` computes and draws a kernel density estimate, which is a smoothed version of the histogram.\n"
            ]
        },
        {
            "cell_type": "code",
            "execution_count": null,
            "metadata": {},
            "outputs": [],
            "source": [
                "# Create a function that returns a density plot\n",
                "show_density <- function(var_data) {\n",
                "  \n",
                "  # Get statistics\n",
                "  mean_val <- mean(pull(var_data))\n",
                "  med_val <- median(pull(var_data))\n",
                "  mod_val <- statip::mfv(pull(var_data))\n",
                "  \n",
                "  \n",
                "  # Plot the density plot\n",
                "  density_plot <- ggplot(data = var_data) +\n",
                "  geom_density(aes(x = pull(var_data)), fill=\"orangered\", color=\"white\", alpha=0.4) +\n",
                "    \n",
                "  # Add lines for the statistics\n",
                "  geom_vline(xintercept = mean_val, color = 'cyan', linetype = \"dashed\", size = 1.3) +\n",
                "  geom_vline(xintercept = med_val, color = 'red', linetype = \"dashed\", size = 1.3 ) +\n",
                "  geom_vline(xintercept = mod_val, color = 'yellow', linetype = \"dashed\", size = 1.3 ) +\n",
                "    \n",
                "  # Add titles and labels\n",
                "  ggtitle('Data Density') +\n",
                "  xlab('') +\n",
                "  ylab('Density') +\n",
                "  theme(plot.title = element_text(hjust = 0.5))\n",
                "  \n",
                "  \n",
                "  \n",
                "  return(density_plot) # End of returned outputs\n",
                "  \n",
                "} # End of function\n",
                "\n",
                "\n",
                "# Get the density of Grade\n",
                "col <- df_students %>% select(Grade)\n",
                "show_density(var_data = col)\n"
            ]
        },
        {
            "cell_type": "markdown",
            "metadata": {},
            "source": [
                "As expected from the histogram of the sample, the density shows the characteristic \"bell curve\" of what statisticians call a *normal* distribution with the mean and mode at the center and symmetric tails.\n",
                "\n",
                "## **Summary**\n",
                "\n",
                "Well done! There were a number of new concepts in here, so let's summarise.\n",
                "\n",
                "Here we have:\n",
                "\n",
                "1.  Made graphs with ggplot2\n",
                "\n",
                "2.  Seen how to customise these graphs\n",
                "\n",
                "3.  Calculated basic statistics, such as medians\n",
                "\n",
                "4.  Looked at the spread of data using box plots and histograms\n",
                "\n",
                "5.  Learned about samples vs populations\n",
                "\n",
                "6.  Estimated what the population of graphs might look like from a sample of grades.\n",
                "\n",
                "In our next notebook we will look at spotting unusual data, and finding relationships between data.\n",
                "\n",
                "## **Further Reading**\n",
                "\n",
                "To learn more about the R packages and concepts you explored in this notebook, see the following documentation:\n",
                "\n",
                "-   [Tidyverse packages](https://www.tidyverse.org/packages/)\n",
                "\n",
                "-   [Patchwork](https://patchwork.data-imaginist.com/)\n",
                "\n",
                "-   [Functions with R](https://skirmer.github.io/presentations/functions_with_r.html#1)\n"
            ]
        }
    ],
    "metadata": {
        "anaconda-cloud": "",
        "kernelspec": {
            "display_name": "R",
            "language": "R",
            "name": "ir"
        },
        "language_info": {
            "codemirror_mode": "r",
            "file_extension": ".r",
            "mimetype": "text/x-r-source",
            "name": "R",
            "pygments_lexer": "r",
            "version": "3.4.1"
        }
    },
    "nbformat": 4,
    "nbformat_minor": 1
}